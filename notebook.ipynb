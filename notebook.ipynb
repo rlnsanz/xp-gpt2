{
 "cells": [
  {
   "cell_type": "code",
   "execution_count": null,
   "metadata": {},
   "outputs": [],
   "source": [
    "import flor\n",
    "\n",
    "flor.batch(flor.cross_prod(lr=(1e-5, 1e-4, 1e-3), max_length=(16, 32, 64, 128), batch_size=(4,8,16)))"
   ]
  },
  {
   "cell_type": "code",
   "execution_count": null,
   "metadata": {},
   "outputs": [],
   "source": [
    "import flor\n",
    "\n",
    "records = flor.log_records()\n",
    "pivot = flor.full_pivot(records)\n",
    "pivot.head()"
   ]
  },
  {
   "cell_type": "code",
   "execution_count": null,
   "metadata": {},
   "outputs": [],
   "source": [
    "flor.replay(\n",
    "    apply_vars=['dp', 'ppl'], \n",
    "    where_clause=None, \n",
    "    path='train.py')"
   ]
  }
 ],
 "metadata": {
  "kernelspec": {
   "display_name": "florenv",
   "language": "python",
   "name": "python3"
  },
  "language_info": {
   "codemirror_mode": {
    "name": "ipython",
    "version": 3
   },
   "file_extension": ".py",
   "mimetype": "text/x-python",
   "name": "python",
   "nbconvert_exporter": "python",
   "pygments_lexer": "ipython3",
   "version": "3.10.11"
  },
  "orig_nbformat": 4
 },
 "nbformat": 4,
 "nbformat_minor": 2
}
